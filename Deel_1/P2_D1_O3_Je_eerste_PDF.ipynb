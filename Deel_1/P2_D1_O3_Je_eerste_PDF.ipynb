{
 "cells": [
  {
   "cell_type": "code",
   "execution_count": 2,
   "metadata": {},
   "outputs": [],
   "source": [
    "from reportlab.lib.pagesizes import letter\n",
    "from reportlab.pdfgen import canvas\n",
    "import os\n"
   ]
  },
  {
   "cell_type": "code",
   "execution_count": 3,
   "metadata": {},
   "outputs": [],
   "source": [
    "def create_pdf(text):\n",
    "    # Definieer de map waar de PDF wordt opgeslagen\n",
    "    directory = 'PDF_INVOICE'\n",
    "    \n",
    "    # Als de map niet bestaat, maak deze dan aan\n",
    "    if not os.path.exists(directory):\n",
    "        os.makedirs(directory)\n",
    "    \n",
    "    # Bestandsnaam voor de PDF\n",
    "    filename = os.path.join(directory, 'invoice.pdf')\n",
    "    \n",
    "    # Maak een PDF canvas object\n",
    "    c = canvas.Canvas(filename, pagesize=letter)\n",
    "    \n",
    "    # Stel het lettertype in\n",
    "    c.setFont(\"Helvetica\", 12)\n",
    "    \n",
    "    # Voeg de tekst toe aan de PDF\n",
    "    c.drawString(100, 750, text)\n",
    "    \n",
    "    # Sla de PDF op\n",
    "    c.save()\n",
    "    \n",
    "    print(f\"PDF is opgeslagen als {filename}\")\n"
   ]
  },
  {
   "cell_type": "code",
   "execution_count": 4,
   "metadata": {},
   "outputs": [
    {
     "name": "stdout",
     "output_type": "stream",
     "text": [
      "PDF is opgeslagen als PDF_INVOICE/invoice.pdf\n"
     ]
    }
   ],
   "source": [
    "if __name__ == '__main__':\n",
    "    # Vraag de gebruiker om een stukje tekst in te voeren\n",
    "    user_input = input(\"Voer de tekst in die je in de PDF wilt zetten: \")\n",
    "    \n",
    "    # Maak de PDF aan met de ingevoerde tekst\n",
    "    create_pdf(user_input)\n"
   ]
  }
 ],
 "metadata": {
  "kernelspec": {
   "display_name": "Python 3",
   "language": "python",
   "name": "python3"
  },
  "language_info": {
   "codemirror_mode": {
    "name": "ipython",
    "version": 3
   },
   "file_extension": ".py",
   "mimetype": "text/x-python",
   "name": "python",
   "nbconvert_exporter": "python",
   "pygments_lexer": "ipython3",
   "version": "3.10.16"
  }
 },
 "nbformat": 4,
 "nbformat_minor": 2
}
